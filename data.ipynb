{
 "cells": [
  {
   "cell_type": "code",
   "execution_count": 40,
   "metadata": {},
   "outputs": [
    {
     "data": {
      "text/html": [
       "<div>\n",
       "<style scoped>\n",
       "    .dataframe tbody tr th:only-of-type {\n",
       "        vertical-align: middle;\n",
       "    }\n",
       "\n",
       "    .dataframe tbody tr th {\n",
       "        vertical-align: top;\n",
       "    }\n",
       "\n",
       "    .dataframe thead th {\n",
       "        text-align: right;\n",
       "    }\n",
       "</style>\n",
       "<table border=\"1\" class=\"dataframe\">\n",
       "  <thead>\n",
       "    <tr style=\"text-align: right;\">\n",
       "      <th></th>\n",
       "      <th>questions</th>\n",
       "      <th>answer</th>\n",
       "    </tr>\n",
       "  </thead>\n",
       "  <tbody>\n",
       "    <tr>\n",
       "      <th>0</th>\n",
       "      <td>什么是呼叫系统？</td>\n",
       "      <td>通俗理解就是可以打电话的系统。</td>\n",
       "    </tr>\n",
       "    <tr>\n",
       "      <th>1</th>\n",
       "      <td>我如何选择坐席？</td>\n",
       "      <td>1、您可以根据产品手册自行查阅相关的操作流程。2、您可以联系客服人员获取帮助。</td>\n",
       "    </tr>\n",
       "  </tbody>\n",
       "</table>\n",
       "</div>"
      ],
      "text/plain": [
       "  questions                                   answer\n",
       "0  什么是呼叫系统？                          通俗理解就是可以打电话的系统。\n",
       "1  我如何选择坐席？  1、您可以根据产品手册自行查阅相关的操作流程。2、您可以联系客服人员获取帮助。"
      ]
     },
     "execution_count": 40,
     "metadata": {},
     "output_type": "execute_result"
    }
   ],
   "source": [
    "import pandas as pd\n",
    "\n",
    "aq_data = {\n",
    "    \"questions\":[\"什么是呼叫系统？\",\"我如何选择坐席？\"],\n",
    "    \"answer\":[\"通俗理解就是可以打电话的系统。\",\"1、您可以根据产品手册自行查阅相关的操作流程。2、您可以联系客服人员获取帮助。\"]\n",
    "}\n",
    "df = pd.DataFrame(aq_data)\n",
    "df.to_csv(\"/data/stream_env/aq_data.csv\", index=False)\n",
    "df\n"
   ]
  },
  {
   "cell_type": "code",
   "execution_count": 31,
   "metadata": {},
   "outputs": [],
   "source": [
    "df2 = pd.read_csv('aq_data.csv')"
   ]
  },
  {
   "cell_type": "code",
   "execution_count": null,
   "metadata": {},
   "outputs": [],
   "source": []
  },
  {
   "cell_type": "code",
   "execution_count": 32,
   "metadata": {},
   "outputs": [],
   "source": [
    "def get_data(question):\n",
    "    for row in df2.iterrows():\n",
    "        if question == row[1][\"questions\"]:\n",
    "            return row[1][\"answer\"]"
   ]
  },
  {
   "cell_type": "code",
   "execution_count": 34,
   "metadata": {},
   "outputs": [
    {
     "data": {
      "text/plain": [
       "'通俗理解就是可以打电话的系统。'"
      ]
     },
     "execution_count": 34,
     "metadata": {},
     "output_type": "execute_result"
    }
   ],
   "source": [
    "question = \"什么是呼叫系统？\"\n",
    "get_data(question)"
   ]
  },
  {
   "cell_type": "code",
   "execution_count": 35,
   "metadata": {},
   "outputs": [
    {
     "data": {
      "text/plain": [
       "pandas.core.series.Series"
      ]
     },
     "execution_count": 35,
     "metadata": {},
     "output_type": "execute_result"
    }
   ],
   "source": [
    "type(df[\"questions\"])"
   ]
  },
  {
   "cell_type": "code",
   "execution_count": 36,
   "metadata": {},
   "outputs": [
    {
     "name": "stdout",
     "output_type": "stream",
     "text": [
      "1\n",
      "什么是呼叫系统？\n",
      "2. 什么是呼叫系统？\n",
      "2\n",
      "我如何选择坐席？\n",
      "3. 我如何选择坐席？\n"
     ]
    }
   ],
   "source": [
    " for i, value in enumerate(df[\"questions\"], start=1):\n",
    "   print(i)\n",
    "   print(value)\n",
    "   question = f\"{i + 1}. {value}\"\n",
    "   print(question)"
   ]
  },
  {
   "cell_type": "code",
   "execution_count": 37,
   "metadata": {},
   "outputs": [
    {
     "name": "stdout",
     "output_type": "stream",
     "text": [
      "什\n",
      "么\n",
      "是\n",
      "呼\n",
      "叫\n",
      "系\n",
      "统\n",
      "？\n"
     ]
    }
   ],
   "source": [
    "s = \"什么是呼叫系统？\"\n",
    "for i in list(s):\n",
    "    print(i)\n",
    "    "
   ]
  }
 ],
 "metadata": {
  "kernelspec": {
   "display_name": "streamlit_env",
   "language": "python",
   "name": "python3"
  },
  "language_info": {
   "codemirror_mode": {
    "name": "ipython",
    "version": 3
   },
   "file_extension": ".py",
   "mimetype": "text/x-python",
   "name": "python",
   "nbconvert_exporter": "python",
   "pygments_lexer": "ipython3",
   "version": "3.8.19"
  }
 },
 "nbformat": 4,
 "nbformat_minor": 2
}
